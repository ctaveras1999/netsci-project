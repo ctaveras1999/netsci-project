{
 "cells": [
  {
   "cell_type": "code",
   "execution_count": 1,
   "metadata": {},
   "outputs": [],
   "source": [
    "import numpy as np\n",
    "import networkx as nx\n",
    "import hypernetx as hnx\n",
    "import hypernetx.algorithms.hypergraph_modularity as hmod\n",
    "import pandas as pd\n",
    "from utils import *\n",
    "from collections import defaultdict\n",
    "import community as community_louvain"
   ]
  },
  {
   "cell_type": "markdown",
   "metadata": {},
   "source": [
    "## Processing data"
   ]
  },
  {
   "cell_type": "code",
   "execution_count": 2,
   "metadata": {},
   "outputs": [],
   "source": [
    "H, truth, partitions = get_dblp_data('dblp.pkl')\n",
    "edge_list, triangle_list = hgraph_to_sc(H)"
   ]
  },
  {
   "cell_type": "code",
   "execution_count": 3,
   "metadata": {},
   "outputs": [
    {
     "name": "stdout",
     "output_type": "stream",
     "text": [
      "Total number of edges: 1372\n",
      "Edge distribution\n",
      "[[  2   3   4   5   6   7]\n",
      " [739 447 149  30   6   1]]\n"
     ]
    }
   ],
   "source": [
    "edge_dist = np.zeros((2, 6), dtype=int)\n",
    "num_edges = len(H.edges)\n",
    "\n",
    "edge_dist[0,:] = [2, 3, 4, 5, 6, 7]\n",
    "\n",
    "for edge in H.edges:\n",
    "    node_list = [int(node) for node in edge.split(\"_\")]\n",
    "    edge_size = len(node_list)\n",
    "    edge_dist[1,edge_size-2] += 1\n",
    "\n",
    "print(\"Total number of edges:\", np.sum(edge_dist[1,:]))\n",
    "print(\"Edge distribution\")\n",
    "print(edge_dist)"
   ]
  },
  {
   "cell_type": "code",
   "execution_count": 4,
   "metadata": {},
   "outputs": [],
   "source": [
    "HG = hmod.precompute_attributes(H)"
   ]
  },
  {
   "cell_type": "code",
   "execution_count": 5,
   "metadata": {},
   "outputs": [],
   "source": [
    "K = hmod.kumar(HG)\n",
    "K_strict = hmod.last_step(HG, K, hmod.strict)\n",
    "K_maj =    hmod.last_step(HG, K, hmod.majority)\n",
    "K_linear = hmod.last_step(HG, K, hmod.linear)"
   ]
  },
  {
   "cell_type": "code",
   "execution_count": 6,
   "metadata": {},
   "outputs": [],
   "source": [
    "hgraph_mod_strict = hmod.modularity(HG, K_strict, hmod.strict)\n",
    "hgraph_mod_maj =    hmod.modularity(HG, K_maj, hmod.majority)\n",
    "hgraph_mod_linear = hmod.modularity(HG, K_linear, hmod.linear)\n",
    "hgraph_res = np.array([hgraph_mod_strict, hgraph_mod_maj, hgraph_mod_linear])"
   ]
  },
  {
   "cell_type": "markdown",
   "metadata": {},
   "source": [
    "## Wu et al."
   ]
  },
  {
   "cell_type": "code",
   "execution_count": 7,
   "metadata": {
    "scrolled": false
   },
   "outputs": [],
   "source": [
    "edge_list = pd.DataFrame (edge_list, columns=['node_1', 'node_2'])\n",
    "triangle_list = pd.DataFrame (triangle_list, columns=['node_1', 'node_2', 'node_3'])\n",
    "\n",
    "G = nx.Graph()\n",
    "\n",
    "unique_nodes = set()\n",
    "for i in range(len(edge_list)):\n",
    "    u = edge_list.iloc[i][0]\n",
    "    v = edge_list.iloc[i][1]\n",
    "    unique_nodes = unique_nodes | {u, v}\n",
    "unique_nodes = list(unique_nodes)\n",
    "unique_nodes.sort()\n",
    "G.add_nodes_from(unique_nodes)\n",
    "\n",
    "for i in range(len(edge_list)):\n",
    "    u = edge_list.iloc[i][0]\n",
    "    v = edge_list.iloc[i][1]\n",
    "    G.add_edge(u,v)"
   ]
  },
  {
   "cell_type": "code",
   "execution_count": 8,
   "metadata": {},
   "outputs": [],
   "source": [
    "B1 = generate_B1ca(G)\n",
    "B2 = generate_B2ca_cc(G,triangle_list)\n",
    "\n",
    "V = np.vstack((np.identity(len(G.edges)),-np.identity(len(G.edges))))\n",
    "\n",
    "A_l_hat = generate_A_l_hat(B1,V)\n",
    "A_u_hat = generate_A_u_hat(B2,V)\n",
    "A_s_hat = generate_A_s_hat(B1,B2)\n",
    "A_rw_hat = generate_A_rw_hat(A_s_hat, A_l_hat,A_u_hat)\n",
    "\n",
    "#check the condition for Therorem 2:\n",
    "if np.sum(A_rw_hat) < np.amax(np.sum(A_rw_hat,axis = 1)):\n",
    "    print(\"assumption violation\")\n",
    "\n",
    "np.fill_diagonal(A_rw_hat, np.zeros(A_rw_hat.shape[1]))\n",
    "np.zeros(A_rw_hat.shape[1])\n",
    "G_dual = nx.from_numpy_matrix(A_rw_hat)\n",
    "louvain_SC = community_louvain.best_partition(G_dual)"
   ]
  },
  {
   "cell_type": "code",
   "execution_count": 9,
   "metadata": {},
   "outputs": [],
   "source": [
    "edge_class_SC = list(louvain_SC.values())[0:len(G.edges)]\n",
    "node_class_SC = edge_comm_to_node_comm(G, edge_class_SC).items()\n",
    "res_SC = defaultdict(list)\n",
    "for key, val in sorted(node_class_SC):\n",
    "    res_SC[val].append(key)"
   ]
  },
  {
   "cell_type": "code",
   "execution_count": 11,
   "metadata": {},
   "outputs": [],
   "source": [
    "K_SC = [set(res_SC[i]) for i in res_SC]  "
   ]
  },
  {
   "cell_type": "code",
   "execution_count": 12,
   "metadata": {},
   "outputs": [],
   "source": [
    "sc_mod_strict = hmod.modularity(HG, K_SC, hmod.strict)\n",
    "sc_mod_maj = hmod.modularity(HG, K_SC, hmod.majority)\n",
    "sc_mod_linear = hmod.modularity(HG, K_SC, hmod.linear)\n",
    "sc_res = np.array([sc_mod_strict, sc_mod_maj, sc_mod_linear])"
   ]
  },
  {
   "cell_type": "markdown",
   "metadata": {},
   "source": [
    "## Louvain method"
   ]
  },
  {
   "cell_type": "code",
   "execution_count": 13,
   "metadata": {},
   "outputs": [],
   "source": [
    "res_graph = defaultdict(list)\n",
    "for key, val in sorted(community_louvain.best_partition(G).items()):\n",
    "    res_graph[val].append(key)\n",
    "louv_part = [set(res_graph[i]) for i in res_graph]  \n",
    "\n",
    "louv_mod_strict = hmod.modularity(HG, louv_part, hmod.strict)\n",
    "louv_mod_maj = hmod.modularity(HG, louv_part, hmod.majority)\n",
    "louv_mod_linear = hmod.modularity(HG, louv_part, hmod.linear)\n",
    "louv_res = np.array([louv_mod_strict, louv_mod_maj, louv_mod_linear])"
   ]
  },
  {
   "cell_type": "code",
   "execution_count": 14,
   "metadata": {},
   "outputs": [
    {
     "data": {
      "text/html": [
       "<div>\n",
       "<style scoped>\n",
       "    .dataframe tbody tr th:only-of-type {\n",
       "        vertical-align: middle;\n",
       "    }\n",
       "\n",
       "    .dataframe tbody tr th {\n",
       "        vertical-align: top;\n",
       "    }\n",
       "\n",
       "    .dataframe thead th {\n",
       "        text-align: right;\n",
       "    }\n",
       "</style>\n",
       "<table border=\"1\" class=\"dataframe\">\n",
       "  <thead>\n",
       "    <tr style=\"text-align: right;\">\n",
       "      <th></th>\n",
       "      <th>strict</th>\n",
       "      <th>majority</th>\n",
       "      <th>linear</th>\n",
       "    </tr>\n",
       "  </thead>\n",
       "  <tbody>\n",
       "    <tr>\n",
       "      <th>Kaminski et al.</th>\n",
       "      <td>0.862536</td>\n",
       "      <td>0.902157</td>\n",
       "      <td>0.885742</td>\n",
       "    </tr>\n",
       "    <tr>\n",
       "      <th>Wu et al.</th>\n",
       "      <td>0.461235</td>\n",
       "      <td>0.496176</td>\n",
       "      <td>0.485762</td>\n",
       "    </tr>\n",
       "    <tr>\n",
       "      <th>Louvain</th>\n",
       "      <td>0.483609</td>\n",
       "      <td>0.486180</td>\n",
       "      <td>0.486059</td>\n",
       "    </tr>\n",
       "  </tbody>\n",
       "</table>\n",
       "</div>"
      ],
      "text/plain": [
       "                   strict  majority    linear\n",
       "Kaminski et al.  0.862536  0.902157  0.885742\n",
       "Wu et al.        0.461235  0.496176  0.485762\n",
       "Louvain          0.483609  0.486180  0.486059"
      ]
     },
     "execution_count": 14,
     "metadata": {},
     "output_type": "execute_result"
    }
   ],
   "source": [
    "results = np.vstack([hgraph_res, sc_res, louv_res])\n",
    "results = pd.DataFrame(results)\n",
    "results.columns = ['strict', 'majority', 'linear']\n",
    "results.index = ['Kaminski et al.', 'Wu et al.', 'Louvain']\n",
    "results"
   ]
  }
 ],
 "metadata": {
  "kernelspec": {
   "display_name": "Python 3 (ipykernel)",
   "language": "python",
   "name": "python3"
  },
  "language_info": {
   "codemirror_mode": {
    "name": "ipython",
    "version": 3
   },
   "file_extension": ".py",
   "mimetype": "text/x-python",
   "name": "python",
   "nbconvert_exporter": "python",
   "pygments_lexer": "ipython3",
   "version": "3.9.12"
  },
  "vscode": {
   "interpreter": {
    "hash": "79872480320bc196dbb8fec8c77d426a29429b04a199b26a5a8a19c0179b5f4e"
   }
  }
 },
 "nbformat": 4,
 "nbformat_minor": 2
}
